{
 "cells": [
  {
   "cell_type": "code",
   "execution_count": 42,
   "metadata": {},
   "outputs": [],
   "source": [
    "import datetime\n",
    "import pandas as pd\n",
    "import numpy as np\n",
    "from pathlib import Path\n",
    "from tqdm import tqdm"
   ]
  },
  {
   "cell_type": "code",
   "execution_count": 33,
   "metadata": {},
   "outputs": [],
   "source": [
    "import neuralhydrology.datasetzoo.camelsus as camelsus\n",
    "import neuralhydrology.datautils.pet as pet\n"
   ]
  },
  {
   "cell_type": "code",
   "execution_count": 38,
   "metadata": {},
   "outputs": [],
   "source": [
    "# Path to the CAMELS dataset.\n",
    "camels_data_path = Path('/home/gsnearing/projects/hydrology_datasets/camels/basin_dataset_public_v1p2')\n",
    "\n",
    "def load_basin_data(basin: str) -> pd.DataFrame:\n",
    "    # Load forcing data.\n",
    "    forcings, area = camelsus.load_camels_us_forcings(\n",
    "        data_dir=camels_data_path,\n",
    "        basin=basin,\n",
    "        forcings='daymet'\n",
    "    )\n",
    "\n",
    "    # Load catchment attributes to get latitude.\n",
    "    attributes = camelsus.load_camels_us_attributes(\n",
    "        data_dir=camels_data_path,\n",
    "        basins=[basin]\n",
    "    )\n",
    "\n",
    "    # Calculate PET from forcing data.\n",
    "    forcings['PET'] = pet.get_priestley_taylor_pet(\n",
    "        t_min=forcings['tmin(C)'].values,\n",
    "        t_max=forcings['tmax(C)'].values,\n",
    "        s_rad=forcings['srad(W/m2)'].values,\n",
    "        lat=attributes.loc[basin, 'gauge_lat'],\n",
    "        elev=attributes.loc[basin, 'elev_mean'],\n",
    "        doy=np.array([ts.day_of_year for ts in forcings.index])\n",
    "    )\n",
    "\n",
    "    # Load area-normalized discharge.\n",
    "    forcings['streamflow'] = camelsus.load_camels_us_discharge(\n",
    "        data_dir=camels_data_path,\n",
    "        basin=basin, \n",
    "        area=area\n",
    "    )\n",
    "\n",
    "    # Ensure that all values are >= 0.\n",
    "    # This only works for the columns we are using here.\n",
    "    # forcings[forcings < 0] = 0\n",
    "\n",
    "    forcings['temperature'] = (forcings['tmin(C)'] + forcings['tmax(C)']) / 2\n",
    "\n",
    "    forcings.rename(columns={'prcp(mm/day)': 'precipitation'}, inplace=True)\n",
    "    return forcings[['precipitation', 'PET', 'streamflow', 'temperature']]\n"
   ]
  },
  {
   "cell_type": "code",
   "execution_count": 39,
   "metadata": {},
   "outputs": [
    {
     "name": "stdout",
     "output_type": "stream",
     "text": [
      "There are 531 basins.\n"
     ]
    }
   ],
   "source": [
    "basin_file = '531_basin_list.txt'\n",
    "with open(basin_file, 'rt') as f:\n",
    "    lines = f.readlines()\n",
    "basins = [basin.strip('\\n') for basin in lines]\n",
    "print(f'There are {len(basins)} basins.')"
   ]
  },
  {
   "cell_type": "code",
   "execution_count": 40,
   "metadata": {},
   "outputs": [],
   "source": [
    "output_file_directory = Path('basque-data')\n",
    "def save_forcing_file(basin, df):\n",
    "    with open(output_file_directory / f'{basin}.txt', 'wt') as f:\n",
    "        df.to_csv(f)"
   ]
  },
  {
   "cell_type": "code",
   "execution_count": 41,
   "metadata": {},
   "outputs": [
    {
     "name": "stderr",
     "output_type": "stream",
     "text": [
      "100%|██████████| 531/531 [03:16<00:00,  2.70it/s]\n"
     ]
    }
   ],
   "source": [
    "for basin in tqdm(basins):\n",
    "    df = load_basin_data(basin)\n",
    "    save_forcing_file(basin, df)"
   ]
  },
  {
   "cell_type": "code",
   "execution_count": 44,
   "metadata": {},
   "outputs": [],
   "source": [
    "def _convert_datetime(date: str) -> str:\n",
    "    datestr = date.split(' ')[0]\n",
    "    return pd.to_datetime(datetime.datetime.strptime(datestr, '%m/%d/%Y').strftime('%Y-%m-%d'))\n",
    "\n",
    "file =  Path('DatasetDaily.csv')\n",
    "with open(file, 'rt') as f:\n",
    "    df = pd.read_csv(f)\n",
    "\n",
    "converted_date = [_convert_datetime(date) for date in df['date']]\n",
    "df['date'] = converted_date\n",
    "\n",
    "file =  Path('basque-data/Abusu.txt')\n",
    "with open(file, 'wt') as f:\n",
    "    df.to_csv(f)\n"
   ]
  },
  {
   "cell_type": "code",
   "execution_count": null,
   "metadata": {},
   "outputs": [],
   "source": []
  }
 ],
 "metadata": {
  "interpreter": {
   "hash": "1cdbf8d702bbb6c2366774f4bc257bbfbc37d6fac5c790621b439124159965a8"
  },
  "kernelspec": {
   "display_name": "Python 3.7.13 ('neuralhydrology')",
   "language": "python",
   "name": "python3"
  },
  "language_info": {
   "codemirror_mode": {
    "name": "ipython",
    "version": 3
   },
   "file_extension": ".py",
   "mimetype": "text/x-python",
   "name": "python",
   "nbconvert_exporter": "python",
   "pygments_lexer": "ipython3",
   "version": "3.7.13"
  },
  "orig_nbformat": 4
 },
 "nbformat": 4,
 "nbformat_minor": 2
}
